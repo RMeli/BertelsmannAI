{
 "cells": [
  {
   "cell_type": "markdown",
   "metadata": {},
   "source": [
    "# IMDB Sentiment Analysis with LSTM"
   ]
  },
  {
   "cell_type": "code",
   "execution_count": 1,
   "metadata": {},
   "outputs": [],
   "source": [
    "import torch\n",
    "import torch.nn.functional as F\n",
    "from torch import nn, optim\n",
    "from torch.utils.data import TensorDataset, DataLoader"
   ]
  },
  {
   "cell_type": "code",
   "execution_count": 2,
   "metadata": {},
   "outputs": [],
   "source": [
    "import numpy as np"
   ]
  },
  {
   "cell_type": "code",
   "execution_count": 3,
   "metadata": {},
   "outputs": [],
   "source": [
    "%matplotlib inline\n",
    "import matplotlib.pyplot as plt"
   ]
  },
  {
   "cell_type": "code",
   "execution_count": 4,
   "metadata": {},
   "outputs": [
    {
     "data": {
      "text/plain": [
       "<torch._C.Generator at 0x7f8fd23ec9f0>"
      ]
     },
     "execution_count": 4,
     "metadata": {},
     "output_type": "execute_result"
    }
   ],
   "source": [
    "np.random.seed(42)\n",
    "torch.manual_seed(42)"
   ]
  },
  {
   "cell_type": "markdown",
   "metadata": {},
   "source": [
    "### Device"
   ]
  },
  {
   "cell_type": "code",
   "execution_count": 5,
   "metadata": {},
   "outputs": [
    {
     "name": "stdout",
     "output_type": "stream",
     "text": [
      "cuda\n"
     ]
    }
   ],
   "source": [
    "device = torch.device(\"cuda\" if torch.cuda.is_available() else \"cpu\")\n",
    "print(device)"
   ]
  },
  {
   "cell_type": "markdown",
   "metadata": {},
   "source": [
    "## Data Pre-Processing and Preparation"
   ]
  },
  {
   "cell_type": "markdown",
   "metadata": {},
   "source": [
    "### Loading"
   ]
  },
  {
   "cell_type": "code",
   "execution_count": 6,
   "metadata": {},
   "outputs": [
    {
     "name": "stdout",
     "output_type": "stream",
     "text": [
      "Reviews:\n",
      "bromwell high is a cartoon comedy . it ran at the same time as some other programs about school life  such as  teachers  . my   years in the teaching profession lead me to believe that bromwell high  s satire is much closer to reality than is  teachers  . the scramble to survive financially  the insightful students who can see right through their pathetic teachers  pomp  the pettiness of the whole situation  all remind me of the schools i knew and their students . when i saw the episode in which a student repeatedly tried to burn down the school  i immediately recalled . . . . . . . . . at . . . . . . . . . . high . a classic line inspector i  m here to sack one of your teachers . student welcome to bromwell high . i expect that many adults of my age think that bromwell high is far fetched . what a pity that it isn  t   \n",
      "story of a man who has unnatural feelings for a pig . starts out with a opening scene that is a terrific example of absurd comedy . a formal orchestra audience is turn\n",
      "\n",
      "Labels:\n",
      "positive\n",
      "negative\n",
      "positiv\n"
     ]
    }
   ],
   "source": [
    "reviewsfname = \"data/IMDB-Reviews.txt\"\n",
    "labelsfname = \"data/IMDB-Labels.txt\"\n",
    "\n",
    "with open(reviewsfname, \"r\") as f:\n",
    "    reviews = f.read()\n",
    "    \n",
    "with open(labelsfname, \"r\") as f:\n",
    "    labels = f.read()\n",
    "    \n",
    "print(f\"Reviews:\\n{reviews[:1000]}\")\n",
    "print(f\"\\nLabels:\\n{labels[:25]}\")"
   ]
  },
  {
   "cell_type": "markdown",
   "metadata": {},
   "source": [
    "### Cleanup"
   ]
  },
  {
   "cell_type": "code",
   "execution_count": 7,
   "metadata": {},
   "outputs": [
    {
     "name": "stdout",
     "output_type": "stream",
     "text": [
      "Punctuation: !\"#$%&'()*+,-./:;<=>?@[\\]^_`{|}~\n"
     ]
    }
   ],
   "source": [
    "from string import punctuation\n",
    "\n",
    "print(f\"Punctuation: {punctuation}\")\n",
    "\n",
    "# Convert reviews to lowercase\n",
    "reviews = reviews.lower()\n",
    "labels = labels.lower()\n",
    "\n",
    "# Remove punctuation\n",
    "reviews = \"\".join([char for char in reviews if char not in punctuation])"
   ]
  },
  {
   "cell_type": "code",
   "execution_count": 8,
   "metadata": {},
   "outputs": [
    {
     "name": "stdout",
     "output_type": "stream",
     "text": [
      "['bromwell', 'high', 'is', 'a', 'cartoon', 'comedy', 'it', 'ran', 'at', 'the']\n"
     ]
    }
   ],
   "source": [
    "allwords = reviews.split()\n",
    "\n",
    "print(allwords[:10])"
   ]
  },
  {
   "cell_type": "markdown",
   "metadata": {},
   "source": [
    "Different reviews and labels are separated by newline characters in our dataset. Let's split the full text of reviews and labels into a list of reviews and labels:"
   ]
  },
  {
   "cell_type": "code",
   "execution_count": 9,
   "metadata": {},
   "outputs": [],
   "source": [
    "reviews = reviews.split(\"\\n\")\n",
    "labels = labels.split(\"\\n\")"
   ]
  },
  {
   "cell_type": "code",
   "execution_count": 10,
   "metadata": {},
   "outputs": [
    {
     "name": "stdout",
     "output_type": "stream",
     "text": [
      "['bromwell high is a cartoon comedy  it ran at the same time as some other programs about school life  such as  teachers   my   years in the teaching profession lead me to believe that bromwell high  s satire is much closer to reality than is  teachers   the scramble to survive financially  the insightful students who can see right through their pathetic teachers  pomp  the pettiness of the whole situation  all remind me of the schools i knew and their students  when i saw the episode in which a student repeatedly tried to burn down the school  i immediately recalled          at           high  a classic line inspector i  m here to sack one of your teachers  student welcome to bromwell high  i expect that many adults of my age think that bromwell high is far fetched  what a pity that it isn  t   ', 'story of a man who has unnatural feelings for a pig  starts out with a opening scene that is a terrific example of absurd comedy  a formal orchestra audience is turned into an insane  violent mob by the crazy chantings of it  s singers  unfortunately it stays absurd the whole time with no general narrative eventually making it just too off putting  even those from the era should be turned off  the cryptic dialogue would make shakespeare seem easy to a third grader  on a technical level it  s better than you might think with some good cinematography by future great vilmos zsigmond  future stars sally kirkland and frederic forrest can be seen briefly   ']\n",
      "['positive', 'negative']\n"
     ]
    }
   ],
   "source": [
    "# Check that we have the same number of reviews and labels\n",
    "assert len(reviews) == len(labels)\n",
    "\n",
    "print(reviews[:2])\n",
    "print(labels[:2])"
   ]
  },
  {
   "cell_type": "markdown",
   "metadata": {},
   "source": [
    "### Word Encoding"
   ]
  },
  {
   "cell_type": "code",
   "execution_count": 11,
   "metadata": {},
   "outputs": [
    {
     "name": "stdout",
     "output_type": "stream",
     "text": [
      "Number of unique words: 74072\n",
      "\n",
      "['a', 'aa', 'aaa', 'aaaaaaah', 'aaaaah', 'aaaaatch', 'aaaahhhhhhh', 'aaaand', 'aaaarrgh', 'aaah', 'aaargh', 'aaaugh', 'aaawwwwnnn', 'aachen', 'aada', 'aadha', 'aag', 'aage', 'aaghh', 'aah', 'aahhh', 'aaip', 'aaja', 'aakash', 'aaker', 'aakrosh', 'aaliyah', 'aames', 'aamir', 'aan']\n"
     ]
    }
   ],
   "source": [
    "words = sorted(set(allwords))\n",
    "n_words = len(words)\n",
    "\n",
    "print(f\"Number of unique words: {n_words}\")\n",
    "print(f\"\\n{words[:30]}\")"
   ]
  },
  {
   "cell_type": "code",
   "execution_count": 12,
   "metadata": {},
   "outputs": [],
   "source": [
    "# Create word to int mapping with 1 as first index\n",
    "word2int = {word : i for i, word in enumerate(words, 1)}\n",
    "\n",
    "# Create inverse int to word mapping\n",
    "int2word = {i : word for word, i in word2int.items()}\n",
    "\n",
    "# Check conversion\n",
    "assert len(word2int) == len(int2word)\n",
    "for word in words:\n",
    "    assert word == int2word[word2int[word]]"
   ]
  },
  {
   "cell_type": "code",
   "execution_count": 13,
   "metadata": {},
   "outputs": [
    {
     "name": "stdout",
     "output_type": "stream",
     "text": [
      "Reviw 1:\n",
      "['bromwell', 'high', 'is', 'a', 'cartoon']\n",
      "\n",
      "Encoded Review 1:\n",
      "[8210, 29951, 33665, 1, 9819]\n",
      "\n",
      "Encoding:\n",
      "\n",
      "bromwell     => 8210\n",
      "high         => 29951\n",
      "is           => 33665\n",
      "a            => 1\n",
      "cartoon      => 9819\n",
      "\n",
      "Encoded Revies Shape: (25001,)\n"
     ]
    }
   ],
   "source": [
    "encodedreviews = []\n",
    "for review in reviews:\n",
    "    encodedreviews.append([word2int[word] for word in review.split()])\n",
    "\n",
    "# Visualize and check encoding\n",
    "print(f\"Reviw 1:\\n{reviews[0].split()[:5]}\")\n",
    "print(f\"\\nEncoded Review 1:\\n{encodedreviews[0][:5]}\")\n",
    "print(f\"\\nEncoding:\\n\")\n",
    "for word in reviews[0].split()[:5]:\n",
    "    print(f\"{word:12} => {word2int[word]}\")\n",
    "    \n",
    "encodedreviews = np.array(encodedreviews)\n",
    "print(f\"\\nEncoded Revies Shape: {encodedreviews.shape}\")"
   ]
  },
  {
   "cell_type": "markdown",
   "metadata": {},
   "source": [
    "### Label Encoding"
   ]
  },
  {
   "cell_type": "code",
   "execution_count": 14,
   "metadata": {},
   "outputs": [
    {
     "name": "stdout",
     "output_type": "stream",
     "text": [
      "Labels:\n",
      "['positive', 'negative', 'positive', 'negative', 'positive']\n",
      "\n",
      "Encoded Labels:\n",
      "[1, 0, 1, 0, 1]\n"
     ]
    }
   ],
   "source": [
    "encodedlabels = []\n",
    "for label in labels:\n",
    "    encodedlabels.append(0 if label == \"negative\" else 1)\n",
    "    \n",
    "# Visualize and check labels\n",
    "print(f\"Labels:\\n{labels[:5]}\")\n",
    "print(f\"\\nEncoded Labels:\\n{encodedlabels[:5]}\")\n",
    "\n",
    "# Transform labels to numpy array\n",
    "encodedlabels = np.array(encodedlabels)"
   ]
  },
  {
   "cell_type": "markdown",
   "metadata": {},
   "source": [
    "### Very Short and Very Long Review"
   ]
  },
  {
   "cell_type": "code",
   "execution_count": 15,
   "metadata": {},
   "outputs": [
    {
     "name": "stdout",
     "output_type": "stream",
     "text": [
      "Minimum Review Length: 0\n",
      "Maximum Review Length: 2514\n",
      "Average Review Length: 240.798\n",
      "Review Length STD: 179.017\n"
     ]
    }
   ],
   "source": [
    "reviewlenghts = [len(review) for review in encodedreviews]\n",
    "\n",
    "reviewlenghts = np.array(reviewlenghts)\n",
    "\n",
    "print(f\"Minimum Review Length: {np.min(reviewlenghts)}\")\n",
    "print(f\"Maximum Review Length: {np.max(reviewlenghts)}\")\n",
    "print(f\"Average Review Length: {np.mean(reviewlenghts):.3f}\")\n",
    "print(f\"Review Length STD: {np.std(reviewlenghts):.3f}\")"
   ]
  },
  {
   "cell_type": "code",
   "execution_count": 16,
   "metadata": {},
   "outputs": [
    {
     "data": {
      "image/png": "[encoded data removed]",
      "text/plain": [
       "<Figure size 432x288 with 1 Axes>"
      ]
     },
     "metadata": {
      "needs_background": "light"
     },
     "output_type": "display_data"
    }
   ],
   "source": [
    "plt.figure()\n",
    "plt.hist(reviewlenghts, bins=len(reviewlenghts)//100)\n",
    "plt.axvline(np.mean(reviewlenghts), color=\"orange\", )\n",
    "plt.show()"
   ]
  },
  {
   "cell_type": "markdown",
   "metadata": {},
   "source": [
    "Let's have a look at the very short reviews:"
   ]
  },
  {
   "cell_type": "code",
   "execution_count": 17,
   "metadata": {},
   "outputs": [
    {
     "name": "stdout",
     "output_type": "stream",
     "text": [
      "this movie is terrible but it has some good effects   \n",
      "\n",
      "ming the merciless does a little bardwork and a movie most foul   \n",
      "\n",
      "comment this movie is impossible  is terrible  very improbable  bad interpretation e direction  not look       \n",
      "\n",
      "i wouldn  t rent this one even on dollar rental night   \n",
      "\n",
      "you  d better choose paul verhoeven  s even if you have watched it   \n",
      "\n",
      "adrian pasdar is excellent is this film  he makes a fascinating woman   \n",
      "\n",
      "no comment  stupid movie  acting average or worse    screenplay  no sense at all    skip it   \n",
      "\n",
      "long  boring  blasphemous  never have i been so glad to see ending credits roll   \n",
      "\n",
      "\n",
      "\n"
     ]
    }
   ],
   "source": [
    "idxs = np.where(reviewlenghts <= 15)[0]\n",
    "\n",
    "for idx in idxs:\n",
    "    print(reviews[idx], end=\"\\n\\n\")"
   ]
  },
  {
   "cell_type": "code",
   "execution_count": 18,
   "metadata": {},
   "outputs": [
    {
     "name": "stdout",
     "output_type": "stream",
     "text": [
      "Encoded Reviews Shape: (25000,)\n",
      "Encoded Labels Shape: (25000,)\n"
     ]
    }
   ],
   "source": [
    "encodedreviews = encodedreviews[reviewlenghts > 0] \n",
    "encodedlabels = encodedlabels[reviewlenghts > 0]\n",
    "\n",
    "print(f\"Encoded Reviews Shape: {encodedreviews.shape}\")\n",
    "print(f\"Encoded Labels Shape: {encodedlabels.shape}\")"
   ]
  },
  {
   "cell_type": "markdown",
   "metadata": {},
   "source": [
    "### Truncation and Padding"
   ]
  },
  {
   "cell_type": "code",
   "execution_count": 19,
   "metadata": {},
   "outputs": [
    {
     "name": "stdout",
     "output_type": "stream",
     "text": [
      "[[    0     0     0 ... 33768 33726 64394]\n",
      " [    0     0     0 ...  5272 57783  8031]\n",
      " [30468 46281 30894 ... 56131 73092 46049]\n",
      " ...\n",
      " [    0     0     0 ... 15007 60837  4144]\n",
      " [    0     0     0 ... 46549 71568 25211]\n",
      " [    0     0     0 ... 65773 33665 47191]]\n"
     ]
    }
   ],
   "source": [
    "len_sequence = 250 # Total number of word in a review\n",
    "\n",
    "paddedreviews = np.zeros((encodedreviews.size, len_sequence), dtype=int)\n",
    "\n",
    "for i, review in enumerate(encodedreviews):\n",
    "    paddedreviews[i,-len(review):] = review[:len_sequence]\n",
    "    \n",
    "print(paddedreviews)"
   ]
  },
  {
   "cell_type": "markdown",
   "metadata": {},
   "source": [
    "### Training, Validation and Test Splits"
   ]
  },
  {
   "cell_type": "code",
   "execution_count": 20,
   "metadata": {},
   "outputs": [],
   "source": [
    "from sklearn.model_selection import train_test_split"
   ]
  },
  {
   "cell_type": "code",
   "execution_count": 21,
   "metadata": {},
   "outputs": [
    {
     "name": "stdout",
     "output_type": "stream",
     "text": [
      "Reviews Train: (20000, 250)\n",
      "Labels Train: (20000,)\n"
     ]
    }
   ],
   "source": [
    "reviews_train, reviews_vt, labels_train, labels_vt = train_test_split(paddedreviews, encodedlabels, test_size=0.2)\n",
    "print(f\"Reviews Train: {reviews_train.shape}\\nLabels Train: {labels_train.shape}\")"
   ]
  },
  {
   "cell_type": "code",
   "execution_count": 22,
   "metadata": {},
   "outputs": [
    {
     "name": "stdout",
     "output_type": "stream",
     "text": [
      "Reviews Valid: (2500, 250)\n",
      "Labels Valid: (2500,)\n",
      "Reviews Test: (2500, 250)\n",
      "Labels Test: (2500,)\n"
     ]
    }
   ],
   "source": [
    "reviews_valid, reviews_test, labels_valid, labels_test = train_test_split(reviews_vt, labels_vt, test_size=0.5)\n",
    "print(f\"Reviews Valid: {reviews_valid.shape}\\nLabels Valid: {labels_valid.shape}\")\n",
    "print(f\"Reviews Test: {reviews_test.shape}\\nLabels Test: {labels_test.shape}\")"
   ]
  },
  {
   "cell_type": "markdown",
   "metadata": {},
   "source": [
    "### Data Loaders and Batches"
   ]
  },
  {
   "cell_type": "code",
   "execution_count": 23,
   "metadata": {},
   "outputs": [],
   "source": [
    "trainset = TensorDataset(torch.from_numpy(reviews_train), torch.from_numpy(labels_train))\n",
    "validset = TensorDataset(torch.from_numpy(reviews_valid), torch.from_numpy(labels_valid))\n",
    "testset = TensorDataset(torch.from_numpy(reviews_test), torch.from_numpy(labels_test))\n",
    "\n",
    "batch_size = 100\n",
    "\n",
    "trainloader = DataLoader(trainset, shuffle=True, batch_size=batch_size, drop_last=True)\n",
    "validloader = DataLoader(validset, shuffle=True, batch_size=batch_size, drop_last=True)\n",
    "testloader = DataLoader(testset, shuffle=True, batch_size=batch_size, drop_last=True)"
   ]
  },
  {
   "cell_type": "code",
   "execution_count": 24,
   "metadata": {},
   "outputs": [
    {
     "name": "stdout",
     "output_type": "stream",
     "text": [
      "Features Shape: torch.Size([100, 250])\n",
      "Features:\n",
      "tensor([[    0,     0,     0,  ..., 25370, 71489, 33768],\n",
      "        [31424, 55987,     1,  ..., 24476,  1638, 65773],\n",
      "        [31424, 26653, 65773,  ..., 66391, 32081, 43774],\n",
      "        ...,\n",
      "        [    0,     0,     0,  ...,     1, 49303, 53008],\n",
      "        [    0,     0,     0,  ..., 32081, 65543, 65547],\n",
      "        [    0,     0,     0,  ..., 65543, 22421, 57043]])\n",
      "Labels Shape: torch.Size([100])\n",
      "Labels:\n",
      "tensor([0, 0, 0, 0, 1, 1, 1, 0, 1, 0, 1, 1, 1, 0, 0, 0, 1, 1, 1, 1, 1, 0, 0, 0,\n",
      "        1, 1, 1, 1, 1, 0, 0, 1, 0, 1, 0, 1, 1, 1, 0, 1, 1, 1, 0, 0, 0, 0, 0, 1,\n",
      "        0, 0, 0, 1, 1, 0, 0, 1, 1, 0, 0, 0, 0, 0, 1, 0, 0, 0, 1, 0, 0, 0, 1, 0,\n",
      "        0, 0, 0, 0, 0, 1, 0, 1, 1, 1, 0, 0, 1, 1, 0, 0, 1, 1, 0, 0, 1, 1, 1, 1,\n",
      "        0, 1, 0, 0])\n"
     ]
    }
   ],
   "source": [
    "trainiter = iter(trainloader)\n",
    "\n",
    "features, labels = next(trainiter)\n",
    "\n",
    "print(f\"Features Shape: {features.shape}\")\n",
    "print(f\"Features:\\n{features}\")\n",
    "print(f\"Labels Shape: {labels.shape}\")\n",
    "print(f\"Labels:\\n{labels}\")"
   ]
  },
  {
   "cell_type": "markdown",
   "metadata": {},
   "source": [
    "## LSTM Architecture for Sentiment Analysis"
   ]
  },
  {
   "cell_type": "code",
   "execution_count": 25,
   "metadata": {},
   "outputs": [],
   "source": [
    "class SentimentRNN(nn.Module):\n",
    "    \n",
    "    def __init__(self, \n",
    "                 n_words, # Number of words \n",
    "                 s_embedding, # Embedding size\n",
    "                 s_hidden, # Hidden layer size\n",
    "                 n_layers, # Number of LSTM layers\n",
    "                 dropp=0.5 # Dropout probability\n",
    "                ):\n",
    "        \n",
    "        super().__init__()\n",
    "        \n",
    "        n_words += 1 # Add one word for 0 padding\n",
    "        \n",
    "        self.s_hidden = s_hidden\n",
    "        \n",
    "        # Embedding layer to avoid one-hot-encoding all words\n",
    "        # Reduce n_words to s_embedding for LSTM input\n",
    "        self.embedding = nn.Embedding(n_words, s_embedding)\n",
    "        \n",
    "        # Define LSTM layer with embedding input\n",
    "        self.lstm = nn.LSTM(s_embedding, s_hidden, n_layers, dropout=dropp, batch_first=True)\n",
    "        \n",
    "        # Define dropout layer between LSTM and FC\n",
    "        self.dropout = nn.Dropout(dropp)\n",
    "        \n",
    "        # Fully connected layer with one output\n",
    "        # One ouptut for binary classification (positive/negative)\n",
    "        self.fc = nn.Linear(s_hidden, 1)\n",
    "        \n",
    "        self.sigmoid = nn.Sigmoid()\n",
    "        \n",
    "    def forward(self, x, hidden):\n",
    "        \n",
    "        batch_size = x.shape[0]\n",
    "        \n",
    "        x = self.embedding(x)\n",
    "        \n",
    "        x, hidden = self.lstm(x, hidden)\n",
    "        \n",
    "        x = x.reshape(-1, self.s_hidden)\n",
    "        \n",
    "        x = self.dropout(x)\n",
    "        \n",
    "        x = self.fc(x)\n",
    "        \n",
    "        # Apply sigmoid function\n",
    "        # Returns values between 0 and 1\n",
    "        x = self.sigmoid(x)\n",
    "        \n",
    "        # Respahe\n",
    "        x = x.reshape(batch_size, -1)\n",
    "        \n",
    "        # Get last batch\n",
    "        x = x[:, -1]\n",
    "        \n",
    "        return x, hidden"
   ]
  },
  {
   "cell_type": "code",
   "execution_count": 26,
   "metadata": {},
   "outputs": [
    {
     "name": "stdout",
     "output_type": "stream",
     "text": [
      "SentimentRNN(\n",
      "  (embedding): Embedding(74073, 500)\n",
      "  (lstm): LSTM(500, 256, num_layers=2, batch_first=True, dropout=0.5)\n",
      "  (dropout): Dropout(p=0.5, inplace=False)\n",
      "  (fc): Linear(in_features=256, out_features=1, bias=True)\n",
      "  (sigmoid): Sigmoid()\n",
      ")\n"
     ]
    }
   ],
   "source": [
    "s_embedding = 500\n",
    "s_hidden = 256\n",
    "n_layers = 2\n",
    "\n",
    "model = SentimentRNN(n_words, s_embedding, s_hidden, n_layers)\n",
    "\n",
    "model.to(device)\n",
    "\n",
    "print(model)"
   ]
  },
  {
   "cell_type": "code",
   "execution_count": 27,
   "metadata": {},
   "outputs": [],
   "source": [
    "lr=0.001\n",
    "\n",
    "loss_function = nn.BCELoss()\n",
    "optimizer = torch.optim.Adam(model.parameters(), lr=lr)"
   ]
  },
  {
   "cell_type": "code",
   "execution_count": 28,
   "metadata": {},
   "outputs": [
    {
     "name": "stdout",
     "output_type": "stream",
     "text": [
      "--- Epoch 0/5\n",
      "--- Epoch 0/5\n",
      "    Step: 100\n",
      "    Validation Loss: 22.65956\n",
      "--- Epoch 0/5\n",
      "--- Epoch 0/5\n",
      "    Step: 200\n",
      "    Validation Loss: 19.50708\n",
      "--- Epoch 1/5\n",
      "--- Epoch 1/5\n",
      "    Step: 300\n",
      "    Validation Loss: 18.35487\n",
      "--- Epoch 1/5\n",
      "--- Epoch 1/5\n",
      "    Step: 400\n",
      "    Validation Loss: 20.99881\n",
      "--- Epoch 2/5\n",
      "--- Epoch 2/5\n",
      "    Step: 500\n",
      "    Validation Loss: 22.92652\n",
      "--- Epoch 2/5\n",
      "--- Epoch 2/5\n",
      "    Step: 600\n",
      "    Validation Loss: 29.91030\n",
      "--- Epoch 3/5\n",
      "--- Epoch 3/5\n",
      "    Step: 700\n",
      "    Validation Loss: 33.07872\n",
      "--- Epoch 3/5\n",
      "--- Epoch 3/5\n",
      "    Step: 800\n",
      "    Validation Loss: 34.72533\n",
      "--- Epoch 4/5\n",
      "--- Epoch 4/5\n",
      "    Step: 900\n",
      "    Validation Loss: 44.08817\n",
      "--- Epoch 4/5\n",
      "--- Epoch 4/5\n",
      "    Step: 1000\n",
      "    Validation Loss: 46.69334\n"
     ]
    }
   ],
   "source": [
    "epochs = 5\n",
    "print_every = len(trainloader) // 2\n",
    "\n",
    "model.train()\n",
    "\n",
    "steps = 0\n",
    "for epoch in range(epochs):\n",
    "    \n",
    "    hidden = None\n",
    "    \n",
    "    for review, label in trainloader:\n",
    "        \n",
    "        steps += 1\n",
    "        \n",
    "        # Reset optimizer gradients\n",
    "        optimizer.zero_grad()\n",
    "        \n",
    "        review, label = review.to(device), label.to(device)\n",
    "        \n",
    "        output, hidden = model(review, hidden)\n",
    "        \n",
    "        hidden = tuple([h.detach() for h in hidden])\n",
    "        \n",
    "        loss = loss_function(output.squeeze(), label.float())\n",
    "        \n",
    "        loss.backward()\n",
    "        \n",
    "        nn.utils.clip_grad_norm_(model.parameters(), 5)\n",
    "        \n",
    "        optimizer.step()\n",
    "        \n",
    "        if steps % print_every == 0:\n",
    "            \n",
    "            model.eval()\n",
    "            \n",
    "            with torch.no_grad():\n",
    "                \n",
    "                hidden_v = None\n",
    "                \n",
    "                loss_v = 0\n",
    "                \n",
    "                for rewiev, label in validloader:\n",
    "                    \n",
    "                    review, label = review.to(device), label.to(device)\n",
    "                    \n",
    "                    output, hidden_v = model(review, hidden_v)\n",
    "                    \n",
    "                    loss_v += loss_function(output.squeeze(), label.float()).item()\n",
    "                    \n",
    "            print(f\"--- Epoch {epoch}/{epochs}\")\n",
    "            print(f\"    Step: {steps}\")\n",
    "            print(f\"    Validation Loss: {loss_v/len(validloader):.5f}\")\n",
    "                    \n",
    "            model.train()"
   ]
  }
 ],
 "metadata": {
  "kernelspec": {
   "display_name": "Python 3",
   "language": "python",
   "name": "python3"
  },
  "language_info": {
   "codemirror_mode": {
    "name": "ipython",
    "version": 3
   },
   "file_extension": ".py",
   "mimetype": "text/x-python",
   "name": "python",
   "nbconvert_exporter": "python",
   "pygments_lexer": "ipython3",
   "version": "3.6.7"
  }
 },
 "nbformat": 4,
 "nbformat_minor": 2
}
