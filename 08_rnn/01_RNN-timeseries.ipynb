{
 "cells": [
  {
   "cell_type": "markdown",
   "metadata": {},
   "source": [
    "# RNN Time Series Prediction"
   ]
  },
  {
   "cell_type": "code",
   "execution_count": 1,
   "metadata": {},
   "outputs": [],
   "source": [
    "import torch\n",
    "import torch.nn.functional as F\n",
    "from torch import nn, optim"
   ]
  },
  {
   "cell_type": "code",
   "execution_count": 2,
   "metadata": {},
   "outputs": [],
   "source": [
    "import numpy as np"
   ]
  },
  {
   "cell_type": "code",
   "execution_count": 3,
   "metadata": {},
   "outputs": [],
   "source": [
    "%matplotlib inline\n",
    "import matplotlib.pyplot as plt"
   ]
  },
  {
   "cell_type": "markdown",
   "metadata": {},
   "source": [
    "## Data"
   ]
  },
  {
   "cell_type": "markdown",
   "metadata": {},
   "source": [
    "### Fictitious Time Series"
   ]
  },
  {
   "cell_type": "code",
   "execution_count": 4,
   "metadata": {},
   "outputs": [],
   "source": [
    "# Sequence length\n",
    "len_sequence = 30\n",
    "\n",
    "# Fictitious time series\n",
    "time = np.linspace(0, np.pi, len_sequence + 1)\n",
    "data = np.sin(time)\n",
    "\n",
    "# Reshape data to add input size dimension\n",
    "data = data.reshape(-1, 1)\n",
    "\n",
    "assert data.shape == (len_sequence + 1, 1)"
   ]
  },
  {
   "cell_type": "code",
   "execution_count": 5,
   "metadata": {},
   "outputs": [],
   "source": [
    "input = data[:-1]\n",
    "target  =  data[1:]"
   ]
  },
  {
   "cell_type": "code",
   "execution_count": 6,
   "metadata": {},
   "outputs": [
    {
     "data": {
      "image/png": "[encoded data removed]",
      "text/plain": [
       "<Figure size 432x288 with 1 Axes>"
      ]
     },
     "metadata": {
      "needs_background": "light"
     },
     "output_type": "display_data"
    }
   ],
   "source": [
    "plt.figure()\n",
    "plt.plot(time[1:], input, \"o\", label=\"input\")\n",
    "plt.plot(time[1:], target, \"o\", label=\"target\")\n",
    "plt.legend()\n",
    "plt.show()"
   ]
  },
  {
   "cell_type": "markdown",
   "metadata": {},
   "source": [
    "## RNN"
   ]
  },
  {
   "cell_type": "markdown",
   "metadata": {},
   "source": [
    "### Definition"
   ]
  },
  {
   "cell_type": "code",
   "execution_count": 7,
   "metadata": {},
   "outputs": [],
   "source": [
    "class RNN(nn.Module):\n",
    "    \n",
    "    def __init__(self, s_input, s_output, s_hidden, n_layers):\n",
    "        super().__init__()\n",
    "        \n",
    "        self.s_hidden = s_hidden\n",
    "\n",
    "        # RNN layer\n",
    "        # Shape (batch, sequence, feature)\n",
    "        self.rnn = nn.RNN(s_input, s_hidden, n_layers, batch_first=True)\n",
    "        \n",
    "        # Fully connected layer\n",
    "        self.fc = nn.Linear(s_hidden, s_output)\n",
    "        \n",
    "    def forward(self, x, hidden):\n",
    "        \n",
    "        # Batch size, sequence length and input size\n",
    "        batch_size, len_sequence, s_input = x.shape\n",
    "        \n",
    "        # RNN forward pass\n",
    "        # Get RNN output and new RNN hidden state\n",
    "        output, hidden = self.rnn(x, hidden)\n",
    "        \n",
    "        # Reshape output ad (batch_size * len_sequence, s_hidden)\n",
    "        output = output.view(-1, self.s_hidden)  \n",
    "        \n",
    "        # Compute output\n",
    "        output = self.fc(output)\n",
    "        \n",
    "        return output, hidden"
   ]
  },
  {
   "cell_type": "markdown",
   "metadata": {},
   "source": [
    "### Test"
   ]
  },
  {
   "cell_type": "code",
   "execution_count": 8,
   "metadata": {},
   "outputs": [
    {
     "name": "stdout",
     "output_type": "stream",
     "text": [
      "Input size: torch.Size([1, 30, 1])\n",
      "Hidden size: torch.Size([2, 1, 10])\n",
      "Output size: torch.Size([30, 1])\n"
     ]
    }
   ],
   "source": [
    "# Define a RNN model\n",
    "rnntest = RNN(s_input=1, s_output=1, s_hidden=10, n_layers=2)\n",
    "\n",
    "# Define RNN input\n",
    "# Add first batch dimension\n",
    "inputtest = torch.Tensor(data[:-1]).unsqueeze(0)\n",
    "\n",
    "\n",
    "output, hidden = rnntest(inputtest, None)\n",
    "\n",
    "print(f\"Input size: {inputtest.size()}\")\n",
    "print(f\"Hidden size: {hidden.size()}\")\n",
    "print(f\"Output size: {output.size()}\")"
   ]
  },
  {
   "cell_type": "markdown",
   "metadata": {},
   "source": [
    "## Training "
   ]
  },
  {
   "cell_type": "code",
   "execution_count": 9,
   "metadata": {},
   "outputs": [],
   "source": [
    "rnn = RNN(s_input=1, s_output=1, s_hidden=25, n_layers=1)"
   ]
  },
  {
   "cell_type": "code",
   "execution_count": 10,
   "metadata": {},
   "outputs": [],
   "source": [
    "loss_function = nn.MSELoss()"
   ]
  },
  {
   "cell_type": "code",
   "execution_count": 11,
   "metadata": {},
   "outputs": [],
   "source": [
    "optimizer = optim.Adam(rnn.parameters(), lr=0.01)"
   ]
  },
  {
   "cell_type": "code",
   "execution_count": 12,
   "metadata": {},
   "outputs": [],
   "source": [
    "def train(model, epochs, print_every=25):\n",
    "    \n",
    "    # Initial hidden state\n",
    "    hidden = None\n",
    "    \n",
    "    for epoch in range(epochs):\n",
    "        # Training data\n",
    "        time = np.linspace(epoch * np.pi, (epoch + 1) * np.pi, len_sequence + 1)\n",
    "        data = np.sin(time).reshape(-1, 1)\n",
    "        \n",
    "        input = torch.Tensor(data[:-1]).unsqueeze(0)\n",
    "        target = torch.Tensor(data[1:])\n",
    "        \n",
    "        output, hidden = rnn(input, hidden)\n",
    "        \n",
    "        # Detach the hidden state from the computational graph\n",
    "        # Avoid backpropagation through the entire history\n",
    "        hidden = hidden.clone().detach()\n",
    "        \n",
    "        # Compute the loss\n",
    "        loss = loss_function(output, target)\n",
    "        \n",
    "        # Reset gradients\n",
    "        optimizer.zero_grad()\n",
    "        \n",
    "        # Backpropagation\n",
    "        loss.backward()\n",
    "        \n",
    "        # Update weights\n",
    "        optimizer.step()\n",
    "        \n",
    "        # Print loss \n",
    "        if epoch % print_every == 0:        \n",
    "            print(f\"Loss: {loss.item():.5}\")\n",
    "            plt.figure()\n",
    "            plt.plot(time[1:], input.clone().detach().numpy().squeeze(), \"o\", label=\"input\")\n",
    "            plt.plot(time[1:], output.clone().detach().numpy().squeeze(), \"o\", label=\"output\")\n",
    "            plt.legend()\n",
    "            plt.show()"
   ]
  },
  {
   "cell_type": "code",
   "execution_count": 13,
   "metadata": {},
   "outputs": [
    {
     "name": "stdout",
     "output_type": "stream",
     "text": [
      "Loss: 0.34718\n"
     ]
    },
    {
     "data": {
      "image/png": "[encoded data removed]",
      "text/plain": [
       "<Figure size 432x288 with 1 Axes>"
      ]
     },
     "metadata": {
      "needs_background": "light"
     },
     "output_type": "display_data"
    },
    {
     "name": "stdout",
     "output_type": "stream",
     "text": [
      "Loss: 0.009386\n"
     ]
    },
    {
     "data": {
      "image/png": "[encoded data removed]",
      "text/plain": [
       "<Figure size 432x288 with 1 Axes>"
      ]
     },
     "metadata": {
      "needs_background": "light"
     },
     "output_type": "display_data"
    },
    {
     "name": "stdout",
     "output_type": "stream",
     "text": [
      "Loss: 0.0036772\n"
     ]
    },
    {
     "data": {
      "image/png": "[encoded data removed]",
      "text/plain": [
       "<Figure size 432x288 with 1 Axes>"
      ]
     },
     "metadata": {
      "needs_background": "light"
     },
     "output_type": "display_data"
    },
    {
     "name": "stdout",
     "output_type": "stream",
     "text": [
      "Loss: 0.00016696\n"
     ]
    },
    {
     "data": {
      "image/png": "[encoded data removed]",
      "text/plain": [
       "<Figure size 432x288 with 1 Axes>"
      ]
     },
     "metadata": {
      "needs_background": "light"
     },
     "output_type": "display_data"
    },
    {
     "name": "stdout",
     "output_type": "stream",
     "text": [
      "Loss: 0.00010508\n"
     ]
    },
    {
     "data": {
      "image/png": "[encoded data removed]",
      "text/plain": [
       "<Figure size 432x288 with 1 Axes>"
      ]
     },
     "metadata": {
      "needs_background": "light"
     },
     "output_type": "display_data"
    }
   ],
   "source": [
    "epochs = 100\n",
    "\n",
    "train(rnn, epochs, 20)"
   ]
  },
  {
   "cell_type": "markdown",
   "metadata": {},
   "source": [
    "## Predictions"
   ]
  },
  {
   "cell_type": "code",
   "execution_count": 14,
   "metadata": {},
   "outputs": [],
   "source": [
    "time = np.linspace((epochs + 1) * np.pi, (epochs + 2) * np.pi, len_sequence)\n",
    "target = np.sin(time)"
   ]
  }
 ],
 "metadata": {
  "kernelspec": {
   "display_name": "Python 3",
   "language": "python",
   "name": "python3"
  },
  "language_info": {
   "codemirror_mode": {
    "name": "ipython",
    "version": 3
   },
   "file_extension": ".py",
   "mimetype": "text/x-python",
   "name": "python",
   "nbconvert_exporter": "python",
   "pygments_lexer": "ipython3",
   "version": "3.6.7"
  }
 },
 "nbformat": 4,
 "nbformat_minor": 2
}
