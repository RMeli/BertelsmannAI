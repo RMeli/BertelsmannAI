{
 "cells": [
  {
   "cell_type": "markdown",
   "metadata": {},
   "source": [
    "# RNN Time Series Prediction"
   ]
  },
  {
   "cell_type": "code",
   "execution_count": null,
   "metadata": {},
   "outputs": [],
   "source": [
    "import torch\n",
    "import torch.nn.functional as F\n",
    "from torch import nn, optim"
   ]
  },
  {
   "cell_type": "code",
   "execution_count": null,
   "metadata": {},
   "outputs": [],
   "source": [
    "import numpy as np"
   ]
  },
  {
   "cell_type": "code",
   "execution_count": null,
   "metadata": {},
   "outputs": [],
   "source": [
    "%matplotlib inline\n",
    "import matplotlib.pyplot as plt"
   ]
  },
  {
   "cell_type": "code",
   "execution_count": null,
   "metadata": {},
   "outputs": [
    {
     "data": {
      "text/plain": [
       "<torch._C.Generator at 0x7fb2502fc4f0>"
      ]
     },
     "execution_count": null,
     "metadata": {},
     "output_type": "execute_result"
    }
   ],
   "source": [
    "np.random.seed(42)\n",
    "torch.manual_seed(42)"
   ]
  },
  {
   "cell_type": "markdown",
   "metadata": {},
   "source": [
    "## Data"
   ]
  },
  {
   "cell_type": "markdown",
   "metadata": {},
   "source": [
    "### Fictitious Time Series"
   ]
  },
  {
   "cell_type": "markdown",
   "metadata": {},
   "source": [
    "Let's define the length of the sequence of values used for training:"
   ]
  },
  {
   "cell_type": "code",
   "execution_count": null,
   "metadata": {},
   "outputs": [],
   "source": [
    "# Sequence length\n",
    "len_sequence = 25"
   ]
  },
  {
   "cell_type": "markdown",
   "metadata": {},
   "source": [
    "We will try to predict the values of a `sin` wave. Let's create on sequence as a `sin` time series:"
   ]
  },
  {
   "cell_type": "code",
   "execution_count": null,
   "metadata": {},
   "outputs": [],
   "source": [
    "# Fictitious time series\n",
    "time = np.linspace(0, np.pi, len_sequence + 1)\n",
    "data = np.sin(time)\n",
    "\n",
    "# Reshape data to add input size dimension\n",
    "# Shape of data is now (len_sqeuence + 1, s_input)\n",
    "data = data.reshape(-1, 1)\n",
    "\n",
    "assert data.shape == (len_sequence + 1, 1)"
   ]
  },
  {
   "cell_type": "markdown",
   "metadata": {},
   "source": [
    "We can then define an the input sequence as the data from `0` to `len_sequence` and the target sequence as the data from `1` to `len_sequence + 1`. The RNN will then be trained to predict a sequence that is shfted in time by one time unit `dt = time[1] - time[0]`."
   ]
  },
  {
   "cell_type": "code",
   "execution_count": null,
   "metadata": {},
   "outputs": [],
   "source": [
    "input = data[:-1]\n",
    "target = data[1:]"
   ]
  },
  {
   "cell_type": "markdown",
   "metadata": {},
   "source": [
    "Let's plot our fictitious time series:"
   ]
  },
  {
   "cell_type": "code",
   "execution_count": null,
   "metadata": {},
   "outputs": [
    {
     "data": {
      "image/png": "[encoded data removed]",
      "text/plain": [
       "<Figure size 432x288 with 1 Axes>"
      ]
     },
     "metadata": {
      "needs_background": "light"
     },
     "output_type": "display_data"
    }
   ],
   "source": [
    "plt.figure()\n",
    "plt.plot(time[1:], input, \"o\", label=\"input\")\n",
    "plt.plot(time[1:], target, \"o\", label=\"target\")\n",
    "plt.legend()\n",
    "plt.show()"
   ]
  },
  {
   "cell_type": "markdown",
   "metadata": {},
   "source": [
    "We see that the `target` sequence corresponds to the `input` sequence shifted in time."
   ]
  },
  {
   "cell_type": "markdown",
   "metadata": {},
   "source": [
    "## RNN"
   ]
  },
  {
   "cell_type": "markdown",
   "metadata": {},
   "source": [
    "### Definition"
   ]
  },
  {
   "cell_type": "markdown",
   "metadata": {},
   "source": [
    "We can now define a RNN. A RNN is composed of an input layer, one of multiple hidden layers and an output layer. In addition, it outputs a hidden state that encodes the previous history of the network (memory). In the forward function we propagate the input and previous hidden state trough a RNN and get an output and the new hidden state of the RNN. The output is finally passed trough a fully connected layer to obtain the final predictions."
   ]
  },
  {
   "cell_type": "code",
   "execution_count": null,
   "metadata": {},
   "outputs": [],
   "source": [
    "class RNN(nn.Module):\n",
    "    \n",
    "    def __init__(self, \n",
    "                 s_input, # Number of input features\n",
    "                 s_output, # Number of outpus\n",
    "                 s_hidden, # Number of features in the hidden layer\n",
    "                 n_layers, # Number or RNN layer stacked\n",
    "            ):\n",
    "        \n",
    "        super().__init__()\n",
    "        \n",
    "        self.s_input = s_input\n",
    "        self.s_hidden = s_hidden\n",
    "        self.s_output = s_output\n",
    "\n",
    "        # RNN layer\n",
    "        # Shape (batch, sequence, feature)\n",
    "        self.rnn = nn.RNN(s_input, s_hidden, n_layers, batch_first=True)\n",
    "        \n",
    "        # Fully connected layer for output\n",
    "        self.fc = nn.Linear(s_hidden, s_output)\n",
    "        \n",
    "    def forward(self, x, hidden):\n",
    "        \n",
    "        # Batch size, sequence length and input size\n",
    "        batch_size, len_sequence, s_input = x.shape\n",
    "                \n",
    "        assert s_input == self.s_input\n",
    "        \n",
    "        # RNN forward pass\n",
    "        # Get RNN output and new RNN hidden state\n",
    "        output, hidden = self.rnn(x, hidden)\n",
    "        \n",
    "        assert output.shape == (batch_size, len_sequence, self.s_hidden)\n",
    "        \n",
    "        # Reshape output as(batch_size * len_sequence, s_hidden)\n",
    "        output = output.view(-1, self.s_hidden)\n",
    "        \n",
    "        assert output.shape == (batch_size * len_sequence, self.s_hidden)\n",
    "        \n",
    "        # Compute output\n",
    "        output = self.fc(output)\n",
    "        \n",
    "        assert output.shape == (batch_size * len_sequence, self.s_output)\n",
    "        \n",
    "        return output, hidden"
   ]
  },
  {
   "cell_type": "markdown",
   "metadata": {},
   "source": [
    "### Test"
   ]
  },
  {
   "cell_type": "markdown",
   "metadata": {},
   "source": [
    "As usual, let's test the forward pass. The number of input features is `1` (only one response variable for time) and the number of output features is also `1` (the same response variable shifted in time of one time step). The number of hidden units and the number of RNN layers are hyperparameters of the model."
   ]
  },
  {
   "cell_type": "code",
   "execution_count": null,
   "metadata": {},
   "outputs": [
    {
     "name": "stdout",
     "output_type": "stream",
     "text": [
      "Input size: torch.Size([1, 25, 1])\n",
      "Hidden size: torch.Size([2, 1, 15])\n",
      "Output size: torch.Size([25, 1])\n"
     ]
    }
   ],
   "source": [
    "# Define a RNN model\n",
    "rnntest = RNN(s_input=1, s_output=1, s_hidden=15, n_layers=2)\n",
    "\n",
    "# Define RNN input\n",
    "# Add first batch dimension\n",
    "inputtest = torch.Tensor(data[:-1]).unsqueeze(0)\n",
    "\n",
    "# RNN propagation starting with `hidden=None`\n",
    "output, hidden = rnntest(inputtest, None)\n",
    "\n",
    "print(f\"Input size: {inputtest.size()}\")\n",
    "print(f\"Hidden size: {hidden.size()}\")\n",
    "print(f\"Output size: {output.size()}\")"
   ]
  },
  {
   "cell_type": "markdown",
   "metadata": {},
   "source": [
    "## Training "
   ]
  },
  {
   "cell_type": "markdown",
   "metadata": {},
   "source": [
    "Let's define a RNN architecture:"
   ]
  },
  {
   "cell_type": "code",
   "execution_count": null,
   "metadata": {},
   "outputs": [],
   "source": [
    "s_hidden = 20 # Number of hidden units\n",
    "n_layers = 1 # Number of RNN layers\n",
    "\n",
    "rnn = RNN(s_input=1, s_output=1, s_hidden=s_hidden, n_layers=n_layers)"
   ]
  },
  {
   "cell_type": "markdown",
   "metadata": {},
   "source": [
    "The loss between the RNN output and the target sequence (output sequence shifted in time) is computed with the mean square error:"
   ]
  },
  {
   "cell_type": "code",
   "execution_count": null,
   "metadata": {},
   "outputs": [],
   "source": [
    "loss_function = nn.MSELoss()"
   ]
  },
  {
   "cell_type": "markdown",
   "metadata": {},
   "source": [
    "Finally we can define an optimizer an link it to the model parameters:"
   ]
  },
  {
   "cell_type": "code",
   "execution_count": null,
   "metadata": {},
   "outputs": [],
   "source": [
    "optimizer = optim.Adam(rnn.parameters(), lr=0.01)"
   ]
  },
  {
   "cell_type": "markdown",
   "metadata": {},
   "source": [
    "In the training loop we define the training data on the fly by shifting the time on intervals $[n \\pi, (n+1)\\pi]$ where $n$ is the epoch index. The input is propagated through the RNN together with the previous hidden state, the loss is computed and the parameters of the RNN are adjusted consequently. The  hidden state is detached from the computational graph at every step to avoid backpropagation through the entire history. "
   ]
  },
  {
   "cell_type": "code",
   "execution_count": null,
   "metadata": {},
   "outputs": [],
   "source": [
    "def train(model, epochs, print_every=25):\n",
    "    \"\"\"\n",
    "    Train RNN model for a given number of epochs.\n",
    "    \"\"\"\n",
    "    \n",
    "    # Initial hidden state\n",
    "    hidden = None\n",
    "    \n",
    "    for epoch in range(epochs):\n",
    "        # Training data (produced on the fly)\n",
    "        time = np.linspace(epoch * np.pi, (epoch + 1) * np.pi, len_sequence + 1)\n",
    "        data = np.sin(time).reshape(-1, 1)\n",
    "        \n",
    "        # Split data in input and target\n",
    "        # Target is the input shifted in time of one time step\n",
    "        input = torch.Tensor(data[:-1]).unsqueeze(0)\n",
    "        target = torch.Tensor(data[1:])\n",
    "        \n",
    "        # RNN propagation using previous hidden state\n",
    "        output, hidden = rnn(input, hidden)\n",
    "        \n",
    "        # Detach the hidden state from the computational graph\n",
    "        # Avoid backpropagation through the entire history\n",
    "        hidden = hidden.detach()\n",
    "        \n",
    "        # Compute the loss\n",
    "        loss = loss_function(output, target)\n",
    "        \n",
    "        # Reset gradients\n",
    "        optimizer.zero_grad()\n",
    "        \n",
    "        # Backpropagation\n",
    "        loss.backward()\n",
    "        \n",
    "        # Update weights\n",
    "        optimizer.step()\n",
    "        \n",
    "        # Print loss \n",
    "        if epoch % print_every == 0:        \n",
    "            print(f\"Loss: {loss.item():.5}\")\n",
    "            plt.figure()\n",
    "            plt.plot(time[1:], input.clone().detach().numpy().squeeze(), \"o\", label=\"input\")\n",
    "            plt.plot(time[1:], output.clone().detach().numpy().squeeze(), \"o\", label=\"output\")\n",
    "            plt.plot(time[1:], target.clone().detach().numpy().squeeze(), \".\", label=\"target\")\n",
    "            plt.legend()\n",
    "            plt.show()"
   ]
  },
  {
   "cell_type": "code",
   "execution_count": null,
   "metadata": {},
   "outputs": [
    {
     "name": "stdout",
     "output_type": "stream",
     "text": [
      "Loss: 1.2414\n"
     ]
    },
    {
     "data": {
      "image/png": "[encoded data removed]",
      "text/plain": [
       "<Figure size 432x288 with 1 Axes>"
      ]
     },
     "metadata": {
      "needs_background": "light"
     },
     "output_type": "display_data"
    },
    {
     "name": "stdout",
     "output_type": "stream",
     "text": [
      "Loss: 0.033617\n"
     ]
    },
    {
     "data": {
      "image/png": "[encoded data removed]",
      "text/plain": [
       "<Figure size 432x288 with 1 Axes>"
      ]
     },
     "metadata": {
      "needs_background": "light"
     },
     "output_type": "display_data"
    },
    {
     "name": "stdout",
     "output_type": "stream",
     "text": [
      "Loss: 0.0037728\n"
     ]
    },
    {
     "data": {
      "image/png": "[encoded data removed]",
      "text/plain": [
       "<Figure size 432x288 with 1 Axes>"
      ]
     },
     "metadata": {
      "needs_background": "light"
     },
     "output_type": "display_data"
    },
    {
     "name": "stdout",
     "output_type": "stream",
     "text": [
      "Loss: 0.00070358\n"
     ]
    },
    {
     "data": {
      "image/png": "[encoded data removed]",
      "text/plain": [
       "<Figure size 432x288 with 1 Axes>"
      ]
     },
     "metadata": {
      "needs_background": "light"
     },
     "output_type": "display_data"
    },
    {
     "name": "stdout",
     "output_type": "stream",
     "text": [
      "Loss: 0.00087734\n"
     ]
    },
    {
     "data": {
      "image/png": "[encoded data removed]",
      "text/plain": [
       "<Figure size 432x288 with 1 Axes>"
      ]
     },
     "metadata": {
      "needs_background": "light"
     },
     "output_type": "display_data"
    }
   ],
   "source": [
    "epochs = 100\n",
    "\n",
    "train(rnn, epochs, 20)"
   ]
  },
  {
   "cell_type": "markdown",
   "metadata": {},
   "source": [
    "We see that as the training progresses, the output of the RNN looks more and more as the target."
   ]
  },
  {
   "cell_type": "markdown",
   "metadata": {},
   "source": [
    "## Predictions"
   ]
  },
  {
   "cell_type": "markdown",
   "metadata": {},
   "source": [
    "In order to perform predictions we start with data from the last reaining epoch and a `None` hidden state. After obtaining a sequence of predictions from the RNN, we extract the last element of the prediciton vector which is the new data point we are interested in. Then we create the input for the next iteration by shifting the old input backward in time (discarding the oldest data point) and append the new prediction. We repeat this process for as many predictions as needed:"
   ]
  },
  {
   "cell_type": "code",
   "execution_count": null,
   "metadata": {},
   "outputs": [
    {
     "data": {
      "image/png": "[encoded data removed]",
      "text/plain": [
       "<Figure size 432x288 with 1 Axes>"
      ]
     },
     "metadata": {
      "needs_background": "light"
     },
     "output_type": "display_data"
    }
   ],
   "source": [
    "n_predictions = 150\n",
    "\n",
    "predictions = []\n",
    "\n",
    "# First input data (last known sequence used for training)\n",
    "time = np.linspace(epochs * np.pi, (epochs + 1) * np.pi, len_sequence)\n",
    "data = np.sin(time).reshape(-1, 1)\n",
    "\n",
    "hidden = None\n",
    "input = torch.Tensor(data).unsqueeze(0)\n",
    "\n",
    "for _ in range(n_predictions):\n",
    "    \n",
    "    with torch.no_grad():\n",
    "        \n",
    "        prediction, hidden = rnn(input, hidden)\n",
    "        \n",
    "        # Detach hidden state from computational graph\n",
    "        hidden = hidden.detach()\n",
    "        \n",
    "        # Extract new prediction\n",
    "        new = prediction[-1].clone().detach().item()\n",
    "    \n",
    "        # Shift input data, discarding oldest value\n",
    "        # Shape of input is (batch, sequence, feature)\n",
    "        input[:,:-1,:] = input[:,1:,:].clone().detach()\n",
    "        \n",
    "        # Append new prediction to input\n",
    "        input[:,-1,:] = new\n",
    "    \n",
    "        # Append prediction to list of predictions\n",
    "        predictions.append(new)\n",
    "    \n",
    "\n",
    "# Compute time of predictions (outside of training)\n",
    "dt = time[1] - time[0]\n",
    "start = (epochs + 1) * np.pi + dt\n",
    "stop = (epochs + 1) * np.pi + dt * (n_predictions + 1)\n",
    "timelater = np.arange(start, stop, dt)\n",
    "    \n",
    "# Plot predictions\n",
    "plt.figure()\n",
    "plt.plot(time, data, \"o\", label=\"input\")\n",
    "plt.plot(timelater, predictions, \"o\", label=\"predicted\")\n",
    "plt.plot(timelater, np.sin(timelater), \".\", label=\"\")\n",
    "plt.legend()\n",
    "plt.show()"
   ]
  },
  {
   "cell_type": "markdown",
   "metadata": {},
   "source": [
    "We see that after a while the predictions go out-of-phase with respect to the exact solution. We won't get rich by predicting the behaviour of the stock marcket any time soon."
   ]
  }
 ],
 "metadata": {
  "kernelspec": {
   "display_name": "Python 3",
   "language": "python",
   "name": "python3"
  },
  "language_info": {
   "codemirror_mode": {
    "name": "ipython",
    "version": 3
   },
   "file_extension": ".py",
   "mimetype": "text/x-python",
   "name": "python",
   "nbconvert_exporter": "python",
   "pygments_lexer": "ipython3",
   "version": "3.6.7"
  }
 },
 "nbformat": 4,
 "nbformat_minor": 2
}
